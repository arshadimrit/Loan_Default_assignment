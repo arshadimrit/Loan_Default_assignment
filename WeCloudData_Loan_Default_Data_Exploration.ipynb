{
 "cells": [
  {
   "cell_type": "code",
   "execution_count": 1,
   "metadata": {},
   "outputs": [],
   "source": [
    "import mysql.connector\n",
    "\n",
    "import pandas as pd\n",
    "import numpy as np\n",
    "import matplotlib.pyplot as graph\n",
    "import seaborn as sns"
   ]
  },
  {
   "cell_type": "markdown",
   "metadata": {},
   "source": [
    "# Link MySQL and Python\n",
    "We want to connect MySQL and Python to read the database in Python directly. Using mysql connector seems appropriate here. Let's write a class that will load the database"
   ]
  },
  {
   "cell_type": "code",
   "execution_count": 2,
   "metadata": {},
   "outputs": [],
   "source": [
    "class MysqlIO:\n",
    "    def __init__(self, database='test'):\n",
    "            connection = mysql.connector.connect(host='127.0.0.1', \n",
    "                                                 port='3306',\n",
    "                                                 database=database,\n",
    "                                                 user='root',\n",
    "                                                 password='ForSQL!1',\n",
    "                                                 use_pure=True\n",
    "                                                 )\n",
    "            db_info = connection.get_server_info()\n",
    "            self.connection = connection\n",
    "            print(f\"Retrieval of database {database} Successful\")\n",
    "            \n",
    "    def execute(self, query, header=False):\n",
    "        \"\"\"Execute SQL commands and return retrieved queries.\"\"\"\n",
    "        cursor = self.connection.cursor(buffered=True)\n",
    "        cursor.execute(query)\n",
    "        try:\n",
    "            record = cursor.fetchall()\n",
    "            if header:\n",
    "                header = [i[0] for i in cursor.description]\n",
    "                return {'header': header, 'record': record}\n",
    "            else:    \n",
    "                return record\n",
    "        except:\n",
    "            pass\n",
    "        \n",
    "    def to_df(self, query):\n",
    "        \"\"\"Return the retrieved SQL queries into pandas dataframe\"\"\"\n",
    "        res = self.execute(query, header=True)\n",
    "        df = pd.DataFrame(res['record'])\n",
    "        df.columns = res['header']\n",
    "        return df"
   ]
  },
  {
   "cell_type": "code",
   "execution_count": 3,
   "metadata": {},
   "outputs": [
    {
     "name": "stdout",
     "output_type": "stream",
     "text": [
      "Retrieval of database bank_1999 Successful\n"
     ]
    }
   ],
   "source": [
    "db = MysqlIO('bank_1999')"
   ]
  },
  {
   "cell_type": "markdown",
   "metadata": {},
   "source": [
    "# Data Exploration\n",
    "\n",
    "With so many tables, it can be overwhelming to know what to look for. But let's look at them one by one and see what comes up as interesting"
   ]
  },
  {
   "cell_type": "markdown",
   "metadata": {},
   "source": [
    "### Loan and Account Table\n",
    "Since the loan and account tables are directly related, we can look at these first"
   ]
  },
  {
   "cell_type": "code",
   "execution_count": 4,
   "metadata": {},
   "outputs": [
    {
     "data": {
      "text/html": [
       "<div>\n",
       "<style scoped>\n",
       "    .dataframe tbody tr th:only-of-type {\n",
       "        vertical-align: middle;\n",
       "    }\n",
       "\n",
       "    .dataframe tbody tr th {\n",
       "        vertical-align: top;\n",
       "    }\n",
       "\n",
       "    .dataframe thead th {\n",
       "        text-align: right;\n",
       "    }\n",
       "</style>\n",
       "<table border=\"1\" class=\"dataframe\">\n",
       "  <thead>\n",
       "    <tr style=\"text-align: right;\">\n",
       "      <th></th>\n",
       "      <th>loan_date</th>\n",
       "      <th>account_date</th>\n",
       "      <th>loan_id</th>\n",
       "      <th>account_id</th>\n",
       "      <th>amount</th>\n",
       "      <th>duration</th>\n",
       "      <th>payments</th>\n",
       "      <th>status</th>\n",
       "      <th>district_id</th>\n",
       "      <th>frequency</th>\n",
       "    </tr>\n",
       "  </thead>\n",
       "  <tbody>\n",
       "    <tr>\n",
       "      <th>0</th>\n",
       "      <td>1993-11-22</td>\n",
       "      <td>1993-01-13</td>\n",
       "      <td>6077</td>\n",
       "      <td>5270</td>\n",
       "      <td>79608</td>\n",
       "      <td>24</td>\n",
       "      <td>3317.00</td>\n",
       "      <td>A</td>\n",
       "      <td>44</td>\n",
       "      <td>POPLATEK MESICNE</td>\n",
       "    </tr>\n",
       "    <tr>\n",
       "      <th>1</th>\n",
       "      <td>1993-09-15</td>\n",
       "      <td>1993-01-14</td>\n",
       "      <td>7284</td>\n",
       "      <td>11265</td>\n",
       "      <td>52788</td>\n",
       "      <td>12</td>\n",
       "      <td>4399.00</td>\n",
       "      <td>A</td>\n",
       "      <td>15</td>\n",
       "      <td>POPLATEK MESICNE</td>\n",
       "    </tr>\n",
       "    <tr>\n",
       "      <th>2</th>\n",
       "      <td>1993-11-10</td>\n",
       "      <td>1993-01-17</td>\n",
       "      <td>7121</td>\n",
       "      <td>10364</td>\n",
       "      <td>21924</td>\n",
       "      <td>36</td>\n",
       "      <td>609.00</td>\n",
       "      <td>A</td>\n",
       "      <td>55</td>\n",
       "      <td>POPLATEK MESICNE</td>\n",
       "    </tr>\n",
       "    <tr>\n",
       "      <th>3</th>\n",
       "      <td>1994-09-28</td>\n",
       "      <td>1993-01-19</td>\n",
       "      <td>5754</td>\n",
       "      <td>3834</td>\n",
       "      <td>23052</td>\n",
       "      <td>12</td>\n",
       "      <td>1921.00</td>\n",
       "      <td>A</td>\n",
       "      <td>54</td>\n",
       "      <td>POPLATEK MESICNE</td>\n",
       "    </tr>\n",
       "    <tr>\n",
       "      <th>4</th>\n",
       "      <td>1994-09-19</td>\n",
       "      <td>1993-01-24</td>\n",
       "      <td>6895</td>\n",
       "      <td>9307</td>\n",
       "      <td>41904</td>\n",
       "      <td>12</td>\n",
       "      <td>3492.00</td>\n",
       "      <td>A</td>\n",
       "      <td>68</td>\n",
       "      <td>POPLATEK MESICNE</td>\n",
       "    </tr>\n",
       "  </tbody>\n",
       "</table>\n",
       "</div>"
      ],
      "text/plain": [
       "    loan_date account_date  loan_id  account_id  amount  duration payments  \\\n",
       "0  1993-11-22   1993-01-13     6077        5270   79608        24  3317.00   \n",
       "1  1993-09-15   1993-01-14     7284       11265   52788        12  4399.00   \n",
       "2  1993-11-10   1993-01-17     7121       10364   21924        36   609.00   \n",
       "3  1994-09-28   1993-01-19     5754        3834   23052        12  1921.00   \n",
       "4  1994-09-19   1993-01-24     6895        9307   41904        12  3492.00   \n",
       "\n",
       "  status  district_id         frequency  \n",
       "0      A           44  POPLATEK MESICNE  \n",
       "1      A           15  POPLATEK MESICNE  \n",
       "2      A           55  POPLATEK MESICNE  \n",
       "3      A           54  POPLATEK MESICNE  \n",
       "4      A           68  POPLATEK MESICNE  "
      ]
     },
     "metadata": {},
     "output_type": "display_data"
    }
   ],
   "source": [
    "query = \"\"\"\n",
    "    select \n",
    "    loan_t.date as loan_date, account_t.date as account_date, \n",
    "    loan_id, account_id, amount, duration, payments, status, district_id, frequency\n",
    "    from loan_t \n",
    "    join account_t \n",
    "    using(account_id);\n",
    "    \"\"\"\n",
    "loan_account_df = db.to_df(query)\n",
    "display(loan_account_df.head())"
   ]
  },
  {
   "cell_type": "markdown",
   "metadata": {},
   "source": [
    "In the column 'status', A and C are still in good standing, and B and D have likley defaulted. Let's make a new column to show this.\n",
    "\n",
    "I also want to change the frequency column, to values that are easier to understand. \n",
    "\n",
    "And lastly, It would be good to know the time between the date the account was created and date the loan was created."
   ]
  },
  {
   "cell_type": "code",
   "execution_count": 5,
   "metadata": {},
   "outputs": [
    {
     "data": {
      "text/html": [
       "<div>\n",
       "<style scoped>\n",
       "    .dataframe tbody tr th:only-of-type {\n",
       "        vertical-align: middle;\n",
       "    }\n",
       "\n",
       "    .dataframe tbody tr th {\n",
       "        vertical-align: top;\n",
       "    }\n",
       "\n",
       "    .dataframe thead th {\n",
       "        text-align: right;\n",
       "    }\n",
       "</style>\n",
       "<table border=\"1\" class=\"dataframe\">\n",
       "  <thead>\n",
       "    <tr style=\"text-align: right;\">\n",
       "      <th></th>\n",
       "      <th>loan_date</th>\n",
       "      <th>account_date</th>\n",
       "      <th>loan_id</th>\n",
       "      <th>account_id</th>\n",
       "      <th>amount</th>\n",
       "      <th>duration</th>\n",
       "      <th>payments</th>\n",
       "      <th>status</th>\n",
       "      <th>district_id</th>\n",
       "      <th>frequency</th>\n",
       "      <th>defaulted</th>\n",
       "      <th>time_elapsed</th>\n",
       "    </tr>\n",
       "  </thead>\n",
       "  <tbody>\n",
       "    <tr>\n",
       "      <th>551</th>\n",
       "      <td>1998-03-11</td>\n",
       "      <td>1996-12-22</td>\n",
       "      <td>5665</td>\n",
       "      <td>3390</td>\n",
       "      <td>40632</td>\n",
       "      <td>12</td>\n",
       "      <td>3386.00</td>\n",
       "      <td>C</td>\n",
       "      <td>12</td>\n",
       "      <td>weekly</td>\n",
       "      <td>no</td>\n",
       "      <td>444</td>\n",
       "    </tr>\n",
       "    <tr>\n",
       "      <th>119</th>\n",
       "      <td>1994-09-29</td>\n",
       "      <td>1993-10-08</td>\n",
       "      <td>6738</td>\n",
       "      <td>8566</td>\n",
       "      <td>230220</td>\n",
       "      <td>36</td>\n",
       "      <td>6395.00</td>\n",
       "      <td>B</td>\n",
       "      <td>74</td>\n",
       "      <td>monthly</td>\n",
       "      <td>yes</td>\n",
       "      <td>356</td>\n",
       "    </tr>\n",
       "    <tr>\n",
       "      <th>319</th>\n",
       "      <td>1997-08-12</td>\n",
       "      <td>1995-11-28</td>\n",
       "      <td>6677</td>\n",
       "      <td>8169</td>\n",
       "      <td>97980</td>\n",
       "      <td>60</td>\n",
       "      <td>1633.00</td>\n",
       "      <td>C</td>\n",
       "      <td>29</td>\n",
       "      <td>monthly</td>\n",
       "      <td>no</td>\n",
       "      <td>623</td>\n",
       "    </tr>\n",
       "    <tr>\n",
       "      <th>188</th>\n",
       "      <td>1995-08-05</td>\n",
       "      <td>1994-08-27</td>\n",
       "      <td>5922</td>\n",
       "      <td>4580</td>\n",
       "      <td>20220</td>\n",
       "      <td>12</td>\n",
       "      <td>1685.00</td>\n",
       "      <td>A</td>\n",
       "      <td>9</td>\n",
       "      <td>monthly</td>\n",
       "      <td>no</td>\n",
       "      <td>343</td>\n",
       "    </tr>\n",
       "    <tr>\n",
       "      <th>140</th>\n",
       "      <td>1994-06-06</td>\n",
       "      <td>1993-11-26</td>\n",
       "      <td>6210</td>\n",
       "      <td>5927</td>\n",
       "      <td>87216</td>\n",
       "      <td>48</td>\n",
       "      <td>1817.00</td>\n",
       "      <td>B</td>\n",
       "      <td>15</td>\n",
       "      <td>monthly</td>\n",
       "      <td>yes</td>\n",
       "      <td>192</td>\n",
       "    </tr>\n",
       "    <tr>\n",
       "      <th>279</th>\n",
       "      <td>1996-11-15</td>\n",
       "      <td>1995-07-29</td>\n",
       "      <td>6006</td>\n",
       "      <td>4948</td>\n",
       "      <td>359760</td>\n",
       "      <td>60</td>\n",
       "      <td>5996.00</td>\n",
       "      <td>C</td>\n",
       "      <td>43</td>\n",
       "      <td>monthly</td>\n",
       "      <td>no</td>\n",
       "      <td>475</td>\n",
       "    </tr>\n",
       "    <tr>\n",
       "      <th>276</th>\n",
       "      <td>1995-11-28</td>\n",
       "      <td>1995-07-22</td>\n",
       "      <td>5805</td>\n",
       "      <td>4081</td>\n",
       "      <td>137904</td>\n",
       "      <td>24</td>\n",
       "      <td>5746.00</td>\n",
       "      <td>B</td>\n",
       "      <td>11</td>\n",
       "      <td>monthly</td>\n",
       "      <td>yes</td>\n",
       "      <td>129</td>\n",
       "    </tr>\n",
       "    <tr>\n",
       "      <th>3</th>\n",
       "      <td>1994-09-28</td>\n",
       "      <td>1993-01-19</td>\n",
       "      <td>5754</td>\n",
       "      <td>3834</td>\n",
       "      <td>23052</td>\n",
       "      <td>12</td>\n",
       "      <td>1921.00</td>\n",
       "      <td>A</td>\n",
       "      <td>54</td>\n",
       "      <td>monthly</td>\n",
       "      <td>no</td>\n",
       "      <td>617</td>\n",
       "    </tr>\n",
       "    <tr>\n",
       "      <th>312</th>\n",
       "      <td>1996-08-02</td>\n",
       "      <td>1995-11-09</td>\n",
       "      <td>7013</td>\n",
       "      <td>9928</td>\n",
       "      <td>89340</td>\n",
       "      <td>60</td>\n",
       "      <td>1489.00</td>\n",
       "      <td>C</td>\n",
       "      <td>60</td>\n",
       "      <td>monthly</td>\n",
       "      <td>no</td>\n",
       "      <td>267</td>\n",
       "    </tr>\n",
       "    <tr>\n",
       "      <th>416</th>\n",
       "      <td>1996-12-21</td>\n",
       "      <td>1996-05-21</td>\n",
       "      <td>6805</td>\n",
       "      <td>8972</td>\n",
       "      <td>45024</td>\n",
       "      <td>48</td>\n",
       "      <td>938.00</td>\n",
       "      <td>C</td>\n",
       "      <td>70</td>\n",
       "      <td>monthly</td>\n",
       "      <td>no</td>\n",
       "      <td>214</td>\n",
       "    </tr>\n",
       "  </tbody>\n",
       "</table>\n",
       "</div>"
      ],
      "text/plain": [
       "     loan_date account_date  loan_id  account_id  amount  duration payments  \\\n",
       "551 1998-03-11   1996-12-22     5665        3390   40632        12  3386.00   \n",
       "119 1994-09-29   1993-10-08     6738        8566  230220        36  6395.00   \n",
       "319 1997-08-12   1995-11-28     6677        8169   97980        60  1633.00   \n",
       "188 1995-08-05   1994-08-27     5922        4580   20220        12  1685.00   \n",
       "140 1994-06-06   1993-11-26     6210        5927   87216        48  1817.00   \n",
       "279 1996-11-15   1995-07-29     6006        4948  359760        60  5996.00   \n",
       "276 1995-11-28   1995-07-22     5805        4081  137904        24  5746.00   \n",
       "3   1994-09-28   1993-01-19     5754        3834   23052        12  1921.00   \n",
       "312 1996-08-02   1995-11-09     7013        9928   89340        60  1489.00   \n",
       "416 1996-12-21   1996-05-21     6805        8972   45024        48   938.00   \n",
       "\n",
       "    status  district_id frequency defaulted  time_elapsed  \n",
       "551      C           12    weekly        no           444  \n",
       "119      B           74   monthly       yes           356  \n",
       "319      C           29   monthly        no           623  \n",
       "188      A            9   monthly        no           343  \n",
       "140      B           15   monthly       yes           192  \n",
       "279      C           43   monthly        no           475  \n",
       "276      B           11   monthly       yes           129  \n",
       "3        A           54   monthly        no           617  \n",
       "312      C           60   monthly        no           267  \n",
       "416      C           70   monthly        no           214  "
      ]
     },
     "metadata": {},
     "output_type": "display_data"
    }
   ],
   "source": [
    "loan_account_df['defaulted'] = np.where(loan_account_df['status'].isin(['A', 'C']), 'no', 'yes')\n",
    "\n",
    "# Replace Frequency Values\n",
    "loan_account_df.replace({'POPLATEK MESICNE': 'monthly', 'POPLATEK TYDNE': 'weekly', 'POPLATEK PO OBRATU': 'instant'}, \n",
    "                        inplace=True)\n",
    "\n",
    "\n",
    "# Date conversion\n",
    "for col in ['loan_date', 'account_date']:\n",
    "    loan_account_df[col] = pd.to_datetime(loan_account_df[col]) \n",
    "\n",
    "loan_account_df['time_elapsed'] = (loan_account_df['loan_date'] - loan_account_df['account_date']).dt.days\n",
    "\n",
    "display(loan_account_df.sample(10))"
   ]
  },
  {
   "cell_type": "code",
   "execution_count": 6,
   "metadata": {
    "scrolled": false
   },
   "outputs": [
    {
     "name": "stdout",
     "output_type": "stream",
     "text": [
      "no     606\n",
      "yes     76\n",
      "Name: defaulted, dtype: int64\n",
      "amount\n"
     ]
    },
    {
     "data": {
      "text/plain": [
       "<Figure size 504x360 with 0 Axes>"
      ]
     },
     "metadata": {},
     "output_type": "display_data"
    },
    {
     "data": {
      "image/png": "[encoded data removed]",
      "text/plain": [
       "<Figure size 415.875x360 with 1 Axes>"
      ]
     },
     "metadata": {
      "needs_background": "light"
     },
     "output_type": "display_data"
    },
    {
     "name": "stdout",
     "output_type": "stream",
     "text": [
      "duration\n"
     ]
    },
    {
     "data": {
      "text/plain": [
       "<Figure size 504x360 with 0 Axes>"
      ]
     },
     "metadata": {},
     "output_type": "display_data"
    },
    {
     "data": {
      "image/png": "[encoded data removed]",
      "text/plain": [
       "<Figure size 415.875x360 with 1 Axes>"
      ]
     },
     "metadata": {
      "needs_background": "light"
     },
     "output_type": "display_data"
    },
    {
     "name": "stdout",
     "output_type": "stream",
     "text": [
      "payments\n"
     ]
    },
    {
     "data": {
      "text/plain": [
       "<Figure size 504x360 with 0 Axes>"
      ]
     },
     "metadata": {},
     "output_type": "display_data"
    },
    {
     "data": {
      "image/png": "[encoded data removed]",
      "text/plain": [
       "<Figure size 415.875x360 with 1 Axes>"
      ]
     },
     "metadata": {
      "needs_background": "light"
     },
     "output_type": "display_data"
    },
    {
     "name": "stdout",
     "output_type": "stream",
     "text": [
      "frequency\n"
     ]
    },
    {
     "data": {
      "text/plain": [
       "<Figure size 504x360 with 0 Axes>"
      ]
     },
     "metadata": {},
     "output_type": "display_data"
    },
    {
     "data": {
      "image/png": "[encoded data removed]",
      "text/plain": [
       "<Figure size 415.875x360 with 1 Axes>"
      ]
     },
     "metadata": {
      "needs_background": "light"
     },
     "output_type": "display_data"
    },
    {
     "name": "stdout",
     "output_type": "stream",
     "text": [
      "district_id\n"
     ]
    },
    {
     "data": {
      "text/plain": [
       "<Figure size 504x360 with 0 Axes>"
      ]
     },
     "metadata": {},
     "output_type": "display_data"
    },
    {
     "data": {
      "image/png": "[encoded data removed]",
      "text/plain": [
       "<Figure size 415.875x360 with 1 Axes>"
      ]
     },
     "metadata": {
      "needs_background": "light"
     },
     "output_type": "display_data"
    },
    {
     "name": "stdout",
     "output_type": "stream",
     "text": [
      "time_elapsed\n"
     ]
    },
    {
     "data": {
      "text/plain": [
       "<Figure size 504x360 with 0 Axes>"
      ]
     },
     "metadata": {},
     "output_type": "display_data"
    },
    {
     "data": {
      "image/png": "[encoded data removed]",
      "text/plain": [
       "<Figure size 415.875x360 with 1 Axes>"
      ]
     },
     "metadata": {
      "needs_background": "light"
     },
     "output_type": "display_data"
    },
    {
     "name": "stdout",
     "output_type": "stream",
     "text": [
      "account_date\n"
     ]
    },
    {
     "data": {
      "text/plain": [
       "<Figure size 504x360 with 0 Axes>"
      ]
     },
     "metadata": {},
     "output_type": "display_data"
    },
    {
     "data": {
      "image/png": "[encoded data removed]",
      "text/plain": [
       "<Figure size 415.875x360 with 1 Axes>"
      ]
     },
     "metadata": {
      "needs_background": "light"
     },
     "output_type": "display_data"
    },
    {
     "name": "stdout",
     "output_type": "stream",
     "text": [
      "loan_date\n"
     ]
    },
    {
     "data": {
      "text/plain": [
       "<Figure size 504x360 with 0 Axes>"
      ]
     },
     "metadata": {},
     "output_type": "display_data"
    },
    {
     "data": {
      "image/png": "[encoded data removed]",
      "text/plain": [
       "<Figure size 415.875x360 with 1 Axes>"
      ]
     },
     "metadata": {
      "needs_background": "light"
     },
     "output_type": "display_data"
    }
   ],
   "source": [
    "print(loan_account_df['defaulted'].value_counts())\n",
    "\n",
    "for x in ['amount', 'duration', 'payments', 'frequency', 'district_id', 'time_elapsed', 'account_date', 'loan_date']:\n",
    "    print(x)\n",
    "    graph.figure(figsize=(7,5))\n",
    "    sns.displot(data=loan_account_df, x =x, hue='defaulted')\n",
    "    graph.show()"
   ]
  },
  {
   "cell_type": "markdown",
   "metadata": {},
   "source": [
    "'amount', 'duration', 'payments', 'frequency', 'time_elapsed' from loan and account table looks like good predictors"
   ]
  },
  {
   "cell_type": "markdown",
   "metadata": {},
   "source": [
    "### Loan, account, order"
   ]
  },
  {
   "cell_type": "code",
   "execution_count": 7,
   "metadata": {},
   "outputs": [
    {
     "data": {
      "text/html": [
       "<div>\n",
       "<style scoped>\n",
       "    .dataframe tbody tr th:only-of-type {\n",
       "        vertical-align: middle;\n",
       "    }\n",
       "\n",
       "    .dataframe tbody tr th {\n",
       "        vertical-align: top;\n",
       "    }\n",
       "\n",
       "    .dataframe thead th {\n",
       "        text-align: right;\n",
       "    }\n",
       "</style>\n",
       "<table border=\"1\" class=\"dataframe\">\n",
       "  <thead>\n",
       "    <tr style=\"text-align: right;\">\n",
       "      <th></th>\n",
       "      <th>loan_id</th>\n",
       "      <th>account_id</th>\n",
       "      <th>date</th>\n",
       "      <th>amount</th>\n",
       "      <th>duration</th>\n",
       "      <th>payments</th>\n",
       "      <th>status</th>\n",
       "      <th>defaulted</th>\n",
       "    </tr>\n",
       "  </thead>\n",
       "  <tbody>\n",
       "    <tr>\n",
       "      <th>0</th>\n",
       "      <td>5314</td>\n",
       "      <td>1787</td>\n",
       "      <td>1993-07-05</td>\n",
       "      <td>96396</td>\n",
       "      <td>12</td>\n",
       "      <td>8033.00</td>\n",
       "      <td>B</td>\n",
       "      <td>yes</td>\n",
       "    </tr>\n",
       "    <tr>\n",
       "      <th>1</th>\n",
       "      <td>5316</td>\n",
       "      <td>1801</td>\n",
       "      <td>1993-07-11</td>\n",
       "      <td>165960</td>\n",
       "      <td>36</td>\n",
       "      <td>4610.00</td>\n",
       "      <td>A</td>\n",
       "      <td>no</td>\n",
       "    </tr>\n",
       "    <tr>\n",
       "      <th>2</th>\n",
       "      <td>6863</td>\n",
       "      <td>9188</td>\n",
       "      <td>1993-07-28</td>\n",
       "      <td>127080</td>\n",
       "      <td>60</td>\n",
       "      <td>2118.00</td>\n",
       "      <td>A</td>\n",
       "      <td>no</td>\n",
       "    </tr>\n",
       "    <tr>\n",
       "      <th>3</th>\n",
       "      <td>5325</td>\n",
       "      <td>1843</td>\n",
       "      <td>1993-08-03</td>\n",
       "      <td>105804</td>\n",
       "      <td>36</td>\n",
       "      <td>2939.00</td>\n",
       "      <td>A</td>\n",
       "      <td>no</td>\n",
       "    </tr>\n",
       "    <tr>\n",
       "      <th>4</th>\n",
       "      <td>7240</td>\n",
       "      <td>11013</td>\n",
       "      <td>1993-09-06</td>\n",
       "      <td>274740</td>\n",
       "      <td>60</td>\n",
       "      <td>4579.00</td>\n",
       "      <td>A</td>\n",
       "      <td>no</td>\n",
       "    </tr>\n",
       "  </tbody>\n",
       "</table>\n",
       "</div>"
      ],
      "text/plain": [
       "   loan_id  account_id        date  amount  duration payments status defaulted\n",
       "0     5314        1787  1993-07-05   96396        12  8033.00      B       yes\n",
       "1     5316        1801  1993-07-11  165960        36  4610.00      A        no\n",
       "2     6863        9188  1993-07-28  127080        60  2118.00      A        no\n",
       "3     5325        1843  1993-08-03  105804        36  2939.00      A        no\n",
       "4     7240       11013  1993-09-06  274740        60  4579.00      A        no"
      ]
     },
     "metadata": {},
     "output_type": "display_data"
    }
   ],
   "source": [
    "loan_df = db.to_df(\"select * from loan_t\")\n",
    "loan_df['defaulted'] = np.where(loan_df['status'].isin(['A', 'C']), 'no', 'yes')\n",
    "\n",
    "display(loan_df.head())"
   ]
  },
  {
   "cell_type": "code",
   "execution_count": 8,
   "metadata": {},
   "outputs": [
    {
     "data": {
      "text/html": [
       "<div>\n",
       "<style scoped>\n",
       "    .dataframe tbody tr th:only-of-type {\n",
       "        vertical-align: middle;\n",
       "    }\n",
       "\n",
       "    .dataframe tbody tr th {\n",
       "        vertical-align: top;\n",
       "    }\n",
       "\n",
       "    .dataframe thead th {\n",
       "        text-align: right;\n",
       "    }\n",
       "</style>\n",
       "<table border=\"1\" class=\"dataframe\">\n",
       "  <thead>\n",
       "    <tr style=\"text-align: right;\">\n",
       "      <th></th>\n",
       "      <th>account_id</th>\n",
       "      <th>avg_order_amount</th>\n",
       "    </tr>\n",
       "  </thead>\n",
       "  <tbody>\n",
       "    <tr>\n",
       "      <th>0</th>\n",
       "      <td>2</td>\n",
       "      <td>5319.350</td>\n",
       "    </tr>\n",
       "    <tr>\n",
       "      <th>1</th>\n",
       "      <td>19</td>\n",
       "      <td>2523.200</td>\n",
       "    </tr>\n",
       "    <tr>\n",
       "      <th>2</th>\n",
       "      <td>25</td>\n",
       "      <td>2653.550</td>\n",
       "    </tr>\n",
       "    <tr>\n",
       "      <th>3</th>\n",
       "      <td>37</td>\n",
       "      <td>2576.375</td>\n",
       "    </tr>\n",
       "    <tr>\n",
       "      <th>4</th>\n",
       "      <td>38</td>\n",
       "      <td>2416.700</td>\n",
       "    </tr>\n",
       "  </tbody>\n",
       "</table>\n",
       "</div>"
      ],
      "text/plain": [
       "   account_id  avg_order_amount\n",
       "0           2          5319.350\n",
       "1          19          2523.200\n",
       "2          25          2653.550\n",
       "3          37          2576.375\n",
       "4          38          2416.700"
      ]
     },
     "metadata": {},
     "output_type": "display_data"
    }
   ],
   "source": [
    "query = \"\"\"\n",
    "    select amount as order_amount, account_id\n",
    "    from perm_order_t\n",
    "    where account_id in (select account_id from loan_t);\n",
    "    \"\"\"\n",
    "account_order_df = db.to_df(query)\n",
    "account_order_df['order_amount'] = account_order_df['order_amount'].astype(float)\n",
    "\n",
    "account_order_df = account_order_df.groupby('account_id').mean().reset_index()\n",
    "account_order_df.rename(columns = {'order_amount': 'avg_order_amount'}, inplace=True)\n",
    "\n",
    "display(account_order_df.head())"
   ]
  },
  {
   "cell_type": "code",
   "execution_count": 9,
   "metadata": {},
   "outputs": [
    {
     "name": "stdout",
     "output_type": "stream",
     "text": [
      "682 682\n"
     ]
    }
   ],
   "source": [
    "print(len(loan_df), len(account_order_df))"
   ]
  },
  {
   "cell_type": "code",
   "execution_count": 10,
   "metadata": {},
   "outputs": [
    {
     "data": {
      "text/html": [
       "<div>\n",
       "<style scoped>\n",
       "    .dataframe tbody tr th:only-of-type {\n",
       "        vertical-align: middle;\n",
       "    }\n",
       "\n",
       "    .dataframe tbody tr th {\n",
       "        vertical-align: top;\n",
       "    }\n",
       "\n",
       "    .dataframe thead th {\n",
       "        text-align: right;\n",
       "    }\n",
       "</style>\n",
       "<table border=\"1\" class=\"dataframe\">\n",
       "  <thead>\n",
       "    <tr style=\"text-align: right;\">\n",
       "      <th></th>\n",
       "      <th>loan_id</th>\n",
       "      <th>account_id</th>\n",
       "      <th>date</th>\n",
       "      <th>amount</th>\n",
       "      <th>duration</th>\n",
       "      <th>payments</th>\n",
       "      <th>status</th>\n",
       "      <th>defaulted</th>\n",
       "      <th>avg_order_amount</th>\n",
       "    </tr>\n",
       "  </thead>\n",
       "  <tbody>\n",
       "    <tr>\n",
       "      <th>0</th>\n",
       "      <td>5314</td>\n",
       "      <td>1787</td>\n",
       "      <td>1993-07-05</td>\n",
       "      <td>96396</td>\n",
       "      <td>12</td>\n",
       "      <td>8033.00</td>\n",
       "      <td>B</td>\n",
       "      <td>yes</td>\n",
       "      <td>8033.200000</td>\n",
       "    </tr>\n",
       "    <tr>\n",
       "      <th>1</th>\n",
       "      <td>5316</td>\n",
       "      <td>1801</td>\n",
       "      <td>1993-07-11</td>\n",
       "      <td>165960</td>\n",
       "      <td>36</td>\n",
       "      <td>4610.00</td>\n",
       "      <td>A</td>\n",
       "      <td>no</td>\n",
       "      <td>3288.000000</td>\n",
       "    </tr>\n",
       "    <tr>\n",
       "      <th>2</th>\n",
       "      <td>6863</td>\n",
       "      <td>9188</td>\n",
       "      <td>1993-07-28</td>\n",
       "      <td>127080</td>\n",
       "      <td>60</td>\n",
       "      <td>2118.00</td>\n",
       "      <td>A</td>\n",
       "      <td>no</td>\n",
       "      <td>2647.825000</td>\n",
       "    </tr>\n",
       "    <tr>\n",
       "      <th>3</th>\n",
       "      <td>5325</td>\n",
       "      <td>1843</td>\n",
       "      <td>1993-08-03</td>\n",
       "      <td>105804</td>\n",
       "      <td>36</td>\n",
       "      <td>2939.00</td>\n",
       "      <td>A</td>\n",
       "      <td>no</td>\n",
       "      <td>4966.350000</td>\n",
       "    </tr>\n",
       "    <tr>\n",
       "      <th>4</th>\n",
       "      <td>7240</td>\n",
       "      <td>11013</td>\n",
       "      <td>1993-09-06</td>\n",
       "      <td>274740</td>\n",
       "      <td>60</td>\n",
       "      <td>4579.00</td>\n",
       "      <td>A</td>\n",
       "      <td>no</td>\n",
       "      <td>4944.666667</td>\n",
       "    </tr>\n",
       "  </tbody>\n",
       "</table>\n",
       "</div>"
      ],
      "text/plain": [
       "   loan_id  account_id        date  amount  duration payments status  \\\n",
       "0     5314        1787  1993-07-05   96396        12  8033.00      B   \n",
       "1     5316        1801  1993-07-11  165960        36  4610.00      A   \n",
       "2     6863        9188  1993-07-28  127080        60  2118.00      A   \n",
       "3     5325        1843  1993-08-03  105804        36  2939.00      A   \n",
       "4     7240       11013  1993-09-06  274740        60  4579.00      A   \n",
       "\n",
       "  defaulted  avg_order_amount  \n",
       "0       yes       8033.200000  \n",
       "1        no       3288.000000  \n",
       "2        no       2647.825000  \n",
       "3        no       4966.350000  \n",
       "4        no       4944.666667  "
      ]
     },
     "metadata": {},
     "output_type": "display_data"
    }
   ],
   "source": [
    "loan_order_account_df = pd.merge(loan_df, account_order_df, on='account_id')\n",
    "display(loan_order_account_df.head())"
   ]
  },
  {
   "cell_type": "code",
   "execution_count": 11,
   "metadata": {},
   "outputs": [
    {
     "data": {
      "image/png": "[encoded data removed]",
      "text/plain": [
       "<Figure size 415.875x360 with 1 Axes>"
      ]
     },
     "metadata": {
      "needs_background": "light"
     },
     "output_type": "display_data"
    }
   ],
   "source": [
    "sns.displot(data=loan_order_account_df, x = 'avg_order_amount', hue='defaulted')\n",
    "graph.show()"
   ]
  },
  {
   "cell_type": "markdown",
   "metadata": {},
   "source": [
    "The average order amount per client seems to be a good predictor to include here"
   ]
  },
  {
   "cell_type": "markdown",
   "metadata": {},
   "source": [
    "### Loan, account, transaction\n",
    "Here I also want to see how many transactions a client have performed, this might be an indication of how they will perform on their loan"
   ]
  },
  {
   "cell_type": "code",
   "execution_count": 12,
   "metadata": {},
   "outputs": [
    {
     "data": {
      "text/html": [
       "<div>\n",
       "<style scoped>\n",
       "    .dataframe tbody tr th:only-of-type {\n",
       "        vertical-align: middle;\n",
       "    }\n",
       "\n",
       "    .dataframe tbody tr th {\n",
       "        vertical-align: top;\n",
       "    }\n",
       "\n",
       "    .dataframe thead th {\n",
       "        text-align: right;\n",
       "    }\n",
       "</style>\n",
       "<table border=\"1\" class=\"dataframe\">\n",
       "  <thead>\n",
       "    <tr style=\"text-align: right;\">\n",
       "      <th></th>\n",
       "      <th>trans_amount</th>\n",
       "      <th>bal_amount</th>\n",
       "      <th>account_id</th>\n",
       "    </tr>\n",
       "  </thead>\n",
       "  <tbody>\n",
       "    <tr>\n",
       "      <th>0</th>\n",
       "      <td>800</td>\n",
       "      <td>800</td>\n",
       "      <td>5270</td>\n",
       "    </tr>\n",
       "    <tr>\n",
       "      <th>1</th>\n",
       "      <td>44749</td>\n",
       "      <td>45549</td>\n",
       "      <td>5270</td>\n",
       "    </tr>\n",
       "    <tr>\n",
       "      <th>2</th>\n",
       "      <td>1000</td>\n",
       "      <td>1000</td>\n",
       "      <td>11265</td>\n",
       "    </tr>\n",
       "    <tr>\n",
       "      <th>3</th>\n",
       "      <td>1100</td>\n",
       "      <td>1100</td>\n",
       "      <td>10364</td>\n",
       "    </tr>\n",
       "    <tr>\n",
       "      <th>4</th>\n",
       "      <td>700</td>\n",
       "      <td>700</td>\n",
       "      <td>3834</td>\n",
       "    </tr>\n",
       "  </tbody>\n",
       "</table>\n",
       "</div>"
      ],
      "text/plain": [
       "   trans_amount  bal_amount  account_id\n",
       "0           800         800        5270\n",
       "1         44749       45549        5270\n",
       "2          1000        1000       11265\n",
       "3          1100        1100       10364\n",
       "4           700         700        3834"
      ]
     },
     "metadata": {},
     "output_type": "display_data"
    }
   ],
   "source": [
    "query = \"\"\"\n",
    "    select amount as trans_amount, balance as bal_amount, account_id\n",
    "    from transaction_t\n",
    "    where account_id in (select account_id from loan_t);\n",
    "    \"\"\"\n",
    "transaction_df = db.to_df(query)\n",
    "\n",
    "display(transaction_df.head())"
   ]
  },
  {
   "cell_type": "code",
   "execution_count": 13,
   "metadata": {},
   "outputs": [
    {
     "data": {
      "text/html": [
       "<div>\n",
       "<style scoped>\n",
       "    .dataframe tbody tr th:only-of-type {\n",
       "        vertical-align: middle;\n",
       "    }\n",
       "\n",
       "    .dataframe tbody tr th {\n",
       "        vertical-align: top;\n",
       "    }\n",
       "\n",
       "    .dataframe thead th {\n",
       "        text-align: right;\n",
       "    }\n",
       "</style>\n",
       "<table border=\"1\" class=\"dataframe\">\n",
       "  <thead>\n",
       "    <tr style=\"text-align: right;\">\n",
       "      <th></th>\n",
       "      <th>account_id</th>\n",
       "      <th>trans_amount</th>\n",
       "      <th>bal_amount</th>\n",
       "      <th>number_trans</th>\n",
       "    </tr>\n",
       "  </thead>\n",
       "  <tbody>\n",
       "    <tr>\n",
       "      <th>0</th>\n",
       "      <td>2</td>\n",
       "      <td>6593.125523</td>\n",
       "      <td>36540.780335</td>\n",
       "      <td>478.0</td>\n",
       "    </tr>\n",
       "    <tr>\n",
       "      <th>1</th>\n",
       "      <td>19</td>\n",
       "      <td>5199.775578</td>\n",
       "      <td>16253.069307</td>\n",
       "      <td>303.0</td>\n",
       "    </tr>\n",
       "    <tr>\n",
       "      <th>2</th>\n",
       "      <td>25</td>\n",
       "      <td>10797.649635</td>\n",
       "      <td>56279.237226</td>\n",
       "      <td>274.0</td>\n",
       "    </tr>\n",
       "    <tr>\n",
       "      <th>3</th>\n",
       "      <td>37</td>\n",
       "      <td>7293.530769</td>\n",
       "      <td>37547.484615</td>\n",
       "      <td>130.0</td>\n",
       "    </tr>\n",
       "    <tr>\n",
       "      <th>4</th>\n",
       "      <td>38</td>\n",
       "      <td>4399.630769</td>\n",
       "      <td>34462.384615</td>\n",
       "      <td>130.0</td>\n",
       "    </tr>\n",
       "    <tr>\n",
       "      <th>...</th>\n",
       "      <td>...</td>\n",
       "      <td>...</td>\n",
       "      <td>...</td>\n",
       "      <td>...</td>\n",
       "    </tr>\n",
       "    <tr>\n",
       "      <th>677</th>\n",
       "      <td>11327</td>\n",
       "      <td>7465.120000</td>\n",
       "      <td>56689.613333</td>\n",
       "      <td>75.0</td>\n",
       "    </tr>\n",
       "    <tr>\n",
       "      <th>678</th>\n",
       "      <td>11328</td>\n",
       "      <td>9087.869863</td>\n",
       "      <td>46942.369863</td>\n",
       "      <td>146.0</td>\n",
       "    </tr>\n",
       "    <tr>\n",
       "      <th>679</th>\n",
       "      <td>11349</td>\n",
       "      <td>13017.690789</td>\n",
       "      <td>48769.490132</td>\n",
       "      <td>304.0</td>\n",
       "    </tr>\n",
       "    <tr>\n",
       "      <th>680</th>\n",
       "      <td>11359</td>\n",
       "      <td>7799.198413</td>\n",
       "      <td>36105.851852</td>\n",
       "      <td>378.0</td>\n",
       "    </tr>\n",
       "    <tr>\n",
       "      <th>681</th>\n",
       "      <td>11362</td>\n",
       "      <td>3866.354651</td>\n",
       "      <td>30470.110465</td>\n",
       "      <td>344.0</td>\n",
       "    </tr>\n",
       "  </tbody>\n",
       "</table>\n",
       "<p>682 rows × 4 columns</p>\n",
       "</div>"
      ],
      "text/plain": [
       "     account_id  trans_amount    bal_amount  number_trans\n",
       "0             2   6593.125523  36540.780335         478.0\n",
       "1            19   5199.775578  16253.069307         303.0\n",
       "2            25  10797.649635  56279.237226         274.0\n",
       "3            37   7293.530769  37547.484615         130.0\n",
       "4            38   4399.630769  34462.384615         130.0\n",
       "..          ...           ...           ...           ...\n",
       "677       11327   7465.120000  56689.613333          75.0\n",
       "678       11328   9087.869863  46942.369863         146.0\n",
       "679       11349  13017.690789  48769.490132         304.0\n",
       "680       11359   7799.198413  36105.851852         378.0\n",
       "681       11362   3866.354651  30470.110465         344.0\n",
       "\n",
       "[682 rows x 4 columns]"
      ]
     },
     "execution_count": 13,
     "metadata": {},
     "output_type": "execute_result"
    }
   ],
   "source": [
    "transaction_df['number_trans'] = transaction_df.groupby('account_id')['account_id'].transform('count')\n",
    "transaction_df = transaction_df.groupby('account_id').mean().reset_index()\n",
    "transaction_df.rename(columns = {'trans_amount': 'avg_trans_amount'})\n",
    "transaction_df"
   ]
  },
  {
   "cell_type": "code",
   "execution_count": 14,
   "metadata": {},
   "outputs": [
    {
     "data": {
      "text/html": [
       "<div>\n",
       "<style scoped>\n",
       "    .dataframe tbody tr th:only-of-type {\n",
       "        vertical-align: middle;\n",
       "    }\n",
       "\n",
       "    .dataframe tbody tr th {\n",
       "        vertical-align: top;\n",
       "    }\n",
       "\n",
       "    .dataframe thead th {\n",
       "        text-align: right;\n",
       "    }\n",
       "</style>\n",
       "<table border=\"1\" class=\"dataframe\">\n",
       "  <thead>\n",
       "    <tr style=\"text-align: right;\">\n",
       "      <th></th>\n",
       "      <th>loan_id</th>\n",
       "      <th>account_id</th>\n",
       "      <th>date</th>\n",
       "      <th>amount</th>\n",
       "      <th>duration</th>\n",
       "      <th>payments</th>\n",
       "      <th>status</th>\n",
       "      <th>defaulted</th>\n",
       "      <th>trans_amount</th>\n",
       "      <th>bal_amount</th>\n",
       "      <th>number_trans</th>\n",
       "    </tr>\n",
       "  </thead>\n",
       "  <tbody>\n",
       "    <tr>\n",
       "      <th>0</th>\n",
       "      <td>5314</td>\n",
       "      <td>1787</td>\n",
       "      <td>1993-07-05</td>\n",
       "      <td>96396</td>\n",
       "      <td>12</td>\n",
       "      <td>8033.00</td>\n",
       "      <td>B</td>\n",
       "      <td>yes</td>\n",
       "      <td>10195.764268</td>\n",
       "      <td>44264.573201</td>\n",
       "      <td>403.0</td>\n",
       "    </tr>\n",
       "    <tr>\n",
       "      <th>1</th>\n",
       "      <td>5316</td>\n",
       "      <td>1801</td>\n",
       "      <td>1993-07-11</td>\n",
       "      <td>165960</td>\n",
       "      <td>36</td>\n",
       "      <td>4610.00</td>\n",
       "      <td>A</td>\n",
       "      <td>no</td>\n",
       "      <td>7506.873618</td>\n",
       "      <td>43499.842022</td>\n",
       "      <td>633.0</td>\n",
       "    </tr>\n",
       "    <tr>\n",
       "      <th>2</th>\n",
       "      <td>6863</td>\n",
       "      <td>9188</td>\n",
       "      <td>1993-07-28</td>\n",
       "      <td>127080</td>\n",
       "      <td>60</td>\n",
       "      <td>2118.00</td>\n",
       "      <td>A</td>\n",
       "      <td>no</td>\n",
       "      <td>3242.935537</td>\n",
       "      <td>29452.327273</td>\n",
       "      <td>605.0</td>\n",
       "    </tr>\n",
       "    <tr>\n",
       "      <th>3</th>\n",
       "      <td>5325</td>\n",
       "      <td>1843</td>\n",
       "      <td>1993-08-03</td>\n",
       "      <td>105804</td>\n",
       "      <td>36</td>\n",
       "      <td>2939.00</td>\n",
       "      <td>A</td>\n",
       "      <td>no</td>\n",
       "      <td>5983.716450</td>\n",
       "      <td>35669.385281</td>\n",
       "      <td>462.0</td>\n",
       "    </tr>\n",
       "    <tr>\n",
       "      <th>4</th>\n",
       "      <td>7240</td>\n",
       "      <td>11013</td>\n",
       "      <td>1993-09-06</td>\n",
       "      <td>274740</td>\n",
       "      <td>60</td>\n",
       "      <td>4579.00</td>\n",
       "      <td>A</td>\n",
       "      <td>no</td>\n",
       "      <td>11166.880911</td>\n",
       "      <td>56912.579685</td>\n",
       "      <td>571.0</td>\n",
       "    </tr>\n",
       "  </tbody>\n",
       "</table>\n",
       "</div>"
      ],
      "text/plain": [
       "   loan_id  account_id        date  amount  duration payments status  \\\n",
       "0     5314        1787  1993-07-05   96396        12  8033.00      B   \n",
       "1     5316        1801  1993-07-11  165960        36  4610.00      A   \n",
       "2     6863        9188  1993-07-28  127080        60  2118.00      A   \n",
       "3     5325        1843  1993-08-03  105804        36  2939.00      A   \n",
       "4     7240       11013  1993-09-06  274740        60  4579.00      A   \n",
       "\n",
       "  defaulted  trans_amount    bal_amount  number_trans  \n",
       "0       yes  10195.764268  44264.573201         403.0  \n",
       "1        no   7506.873618  43499.842022         633.0  \n",
       "2        no   3242.935537  29452.327273         605.0  \n",
       "3        no   5983.716450  35669.385281         462.0  \n",
       "4        no  11166.880911  56912.579685         571.0  "
      ]
     },
     "metadata": {},
     "output_type": "display_data"
    }
   ],
   "source": [
    "loan_trans_df = pd.merge(loan_df, transaction_df, on='account_id')\n",
    "display(loan_trans_df.head())"
   ]
  },
  {
   "cell_type": "code",
   "execution_count": 15,
   "metadata": {},
   "outputs": [
    {
     "data": {
      "image/png": "[encoded data removed]",
      "text/plain": [
       "<Figure size 415.875x360 with 1 Axes>"
      ]
     },
     "metadata": {
      "needs_background": "light"
     },
     "output_type": "display_data"
    },
    {
     "data": {
      "image/png": "[encoded data removed]",
      "text/plain": [
       "<Figure size 415.875x360 with 1 Axes>"
      ]
     },
     "metadata": {
      "needs_background": "light"
     },
     "output_type": "display_data"
    },
    {
     "data": {
      "image/png": "[encoded data removed]",
      "text/plain": [
       "<Figure size 415.875x360 with 1 Axes>"
      ]
     },
     "metadata": {
      "needs_background": "light"
     },
     "output_type": "display_data"
    }
   ],
   "source": [
    "for col in ['number_trans', 'bal_amount', 'trans_amount']:\n",
    "    sns.displot(data = loan_trans_df, x = col, hue='defaulted')\n",
    "    graph.show()"
   ]
  },
  {
   "cell_type": "markdown",
   "metadata": {},
   "source": [
    "So all 3 predictors (average balance amount, average transaction amount, and number transactions) seem useful here"
   ]
  },
  {
   "cell_type": "markdown",
   "metadata": {},
   "source": [
    "### Loan, account, card, disposition, client"
   ]
  },
  {
   "cell_type": "code",
   "execution_count": 16,
   "metadata": {},
   "outputs": [
    {
     "data": {
      "text/html": [
       "<div>\n",
       "<style scoped>\n",
       "    .dataframe tbody tr th:only-of-type {\n",
       "        vertical-align: middle;\n",
       "    }\n",
       "\n",
       "    .dataframe tbody tr th {\n",
       "        vertical-align: top;\n",
       "    }\n",
       "\n",
       "    .dataframe thead th {\n",
       "        text-align: right;\n",
       "    }\n",
       "</style>\n",
       "<table border=\"1\" class=\"dataframe\">\n",
       "  <thead>\n",
       "    <tr style=\"text-align: right;\">\n",
       "      <th></th>\n",
       "      <th>card_type</th>\n",
       "      <th>account_id</th>\n",
       "      <th>gender</th>\n",
       "      <th>birth_date</th>\n",
       "      <th>district_id</th>\n",
       "      <th>disp_type</th>\n",
       "    </tr>\n",
       "  </thead>\n",
       "  <tbody>\n",
       "    <tr>\n",
       "      <th>0</th>\n",
       "      <td>None</td>\n",
       "      <td>2</td>\n",
       "      <td>male</td>\n",
       "      <td>1945-02-04</td>\n",
       "      <td>1</td>\n",
       "      <td>OWNER</td>\n",
       "    </tr>\n",
       "    <tr>\n",
       "      <th>2</th>\n",
       "      <td>None</td>\n",
       "      <td>19</td>\n",
       "      <td>female</td>\n",
       "      <td>1939-04-23</td>\n",
       "      <td>21</td>\n",
       "      <td>OWNER</td>\n",
       "    </tr>\n",
       "    <tr>\n",
       "      <th>3</th>\n",
       "      <td>None</td>\n",
       "      <td>25</td>\n",
       "      <td>male</td>\n",
       "      <td>1962-02-09</td>\n",
       "      <td>68</td>\n",
       "      <td>OWNER</td>\n",
       "    </tr>\n",
       "    <tr>\n",
       "      <th>4</th>\n",
       "      <td>None</td>\n",
       "      <td>37</td>\n",
       "      <td>male</td>\n",
       "      <td>1952-08-26</td>\n",
       "      <td>20</td>\n",
       "      <td>OWNER</td>\n",
       "    </tr>\n",
       "    <tr>\n",
       "      <th>5</th>\n",
       "      <td>None</td>\n",
       "      <td>38</td>\n",
       "      <td>female</td>\n",
       "      <td>1940-01-30</td>\n",
       "      <td>19</td>\n",
       "      <td>OWNER</td>\n",
       "    </tr>\n",
       "  </tbody>\n",
       "</table>\n",
       "</div>"
      ],
      "text/plain": [
       "  card_type  account_id  gender birth_date  district_id disp_type\n",
       "0      None           2    male 1945-02-04            1     OWNER\n",
       "2      None          19  female 1939-04-23           21     OWNER\n",
       "3      None          25    male 1962-02-09           68     OWNER\n",
       "4      None          37    male 1952-08-26           20     OWNER\n",
       "5      None          38  female 1940-01-30           19     OWNER"
      ]
     },
     "metadata": {},
     "output_type": "display_data"
    }
   ],
   "source": [
    "query = \"\"\"\n",
    "    select card_t.type as card_type, account_id, gender, birth_date, district_id, disposition_t.type as disp_type\n",
    "    from loan_t join disposition_t using(account_id)\n",
    "    left join card_t using(disp_id)\n",
    "    left join client_t using(client_id);\n",
    "    \"\"\"\n",
    "card_client_df = db.to_df(query)\n",
    "card_client_df = card_client_df.loc[card_client_df['disp_type'] == 'OWNER']\n",
    "card_client_df['birth_date'] = pd.to_datetime(card_client_df['birth_date'])\n",
    "\n",
    "display(card_client_df.head())"
   ]
  },
  {
   "cell_type": "code",
   "execution_count": 17,
   "metadata": {},
   "outputs": [
    {
     "data": {
      "text/html": [
       "<div>\n",
       "<style scoped>\n",
       "    .dataframe tbody tr th:only-of-type {\n",
       "        vertical-align: middle;\n",
       "    }\n",
       "\n",
       "    .dataframe tbody tr th {\n",
       "        vertical-align: top;\n",
       "    }\n",
       "\n",
       "    .dataframe thead th {\n",
       "        text-align: right;\n",
       "    }\n",
       "</style>\n",
       "<table border=\"1\" class=\"dataframe\">\n",
       "  <thead>\n",
       "    <tr style=\"text-align: right;\">\n",
       "      <th></th>\n",
       "      <th>card_type</th>\n",
       "      <th>gender</th>\n",
       "      <th>birth_date</th>\n",
       "      <th>defaulted</th>\n",
       "    </tr>\n",
       "  </thead>\n",
       "  <tbody>\n",
       "    <tr>\n",
       "      <th>0</th>\n",
       "      <td>None</td>\n",
       "      <td>female</td>\n",
       "      <td>1947-07-22</td>\n",
       "      <td>yes</td>\n",
       "    </tr>\n",
       "    <tr>\n",
       "      <th>1</th>\n",
       "      <td>None</td>\n",
       "      <td>male</td>\n",
       "      <td>1968-07-22</td>\n",
       "      <td>no</td>\n",
       "    </tr>\n",
       "    <tr>\n",
       "      <th>2</th>\n",
       "      <td>None</td>\n",
       "      <td>male</td>\n",
       "      <td>1936-06-02</td>\n",
       "      <td>no</td>\n",
       "    </tr>\n",
       "    <tr>\n",
       "      <th>3</th>\n",
       "      <td>classic</td>\n",
       "      <td>female</td>\n",
       "      <td>1940-04-20</td>\n",
       "      <td>no</td>\n",
       "    </tr>\n",
       "    <tr>\n",
       "      <th>4</th>\n",
       "      <td>junior</td>\n",
       "      <td>male</td>\n",
       "      <td>1978-09-07</td>\n",
       "      <td>no</td>\n",
       "    </tr>\n",
       "  </tbody>\n",
       "</table>\n",
       "</div>"
      ],
      "text/plain": [
       "  card_type  gender birth_date defaulted\n",
       "0      None  female 1947-07-22       yes\n",
       "1      None    male 1968-07-22        no\n",
       "2      None    male 1936-06-02        no\n",
       "3   classic  female 1940-04-20        no\n",
       "4    junior    male 1978-09-07        no"
      ]
     },
     "metadata": {},
     "output_type": "display_data"
    }
   ],
   "source": [
    "loan_card_client_df = pd.merge(loan_df, card_client_df, on='account_id')\n",
    "loan_card_client_df = loan_card_client_df[['card_type', 'gender', 'birth_date', 'defaulted']]\n",
    "display(loan_card_client_df.head())"
   ]
  },
  {
   "cell_type": "code",
   "execution_count": 18,
   "metadata": {},
   "outputs": [
    {
     "data": {
      "image/png": "[encoded data removed]",
      "text/plain": [
       "<Figure size 415.875x360 with 1 Axes>"
      ]
     },
     "metadata": {
      "needs_background": "light"
     },
     "output_type": "display_data"
    }
   ],
   "source": [
    "sns.displot(data = loan_card_client_df,  x = 'birth_date', hue='defaulted')\n",
    "graph.show()"
   ]
  },
  {
   "cell_type": "markdown",
   "metadata": {},
   "source": [
    "This might be better as age in fact. Let's take a look at that"
   ]
  },
  {
   "cell_type": "code",
   "execution_count": 19,
   "metadata": {},
   "outputs": [
    {
     "data": {
      "text/html": [
       "<div>\n",
       "<style scoped>\n",
       "    .dataframe tbody tr th:only-of-type {\n",
       "        vertical-align: middle;\n",
       "    }\n",
       "\n",
       "    .dataframe tbody tr th {\n",
       "        vertical-align: top;\n",
       "    }\n",
       "\n",
       "    .dataframe thead th {\n",
       "        text-align: right;\n",
       "    }\n",
       "</style>\n",
       "<table border=\"1\" class=\"dataframe\">\n",
       "  <thead>\n",
       "    <tr style=\"text-align: right;\">\n",
       "      <th></th>\n",
       "      <th>card_type</th>\n",
       "      <th>gender</th>\n",
       "      <th>birth_date</th>\n",
       "      <th>defaulted</th>\n",
       "      <th>age</th>\n",
       "    </tr>\n",
       "  </thead>\n",
       "  <tbody>\n",
       "    <tr>\n",
       "      <th>0</th>\n",
       "      <td>None</td>\n",
       "      <td>female</td>\n",
       "      <td>1947-07-22</td>\n",
       "      <td>yes</td>\n",
       "      <td>74</td>\n",
       "    </tr>\n",
       "    <tr>\n",
       "      <th>1</th>\n",
       "      <td>None</td>\n",
       "      <td>male</td>\n",
       "      <td>1968-07-22</td>\n",
       "      <td>no</td>\n",
       "      <td>53</td>\n",
       "    </tr>\n",
       "    <tr>\n",
       "      <th>2</th>\n",
       "      <td>None</td>\n",
       "      <td>male</td>\n",
       "      <td>1936-06-02</td>\n",
       "      <td>no</td>\n",
       "      <td>85</td>\n",
       "    </tr>\n",
       "    <tr>\n",
       "      <th>3</th>\n",
       "      <td>classic</td>\n",
       "      <td>female</td>\n",
       "      <td>1940-04-20</td>\n",
       "      <td>no</td>\n",
       "      <td>81</td>\n",
       "    </tr>\n",
       "    <tr>\n",
       "      <th>4</th>\n",
       "      <td>junior</td>\n",
       "      <td>male</td>\n",
       "      <td>1978-09-07</td>\n",
       "      <td>no</td>\n",
       "      <td>43</td>\n",
       "    </tr>\n",
       "  </tbody>\n",
       "</table>\n",
       "</div>"
      ],
      "text/plain": [
       "  card_type  gender birth_date defaulted  age\n",
       "0      None  female 1947-07-22       yes   74\n",
       "1      None    male 1968-07-22        no   53\n",
       "2      None    male 1936-06-02        no   85\n",
       "3   classic  female 1940-04-20        no   81\n",
       "4    junior    male 1978-09-07        no   43"
      ]
     },
     "metadata": {},
     "output_type": "display_data"
    }
   ],
   "source": [
    "import datetime\n",
    "now = datetime.date.today()\n",
    "\n",
    "loan_card_client_df['age'] = (pd.to_datetime(now) - loan_card_client_df['birth_date']).dt.days // 365\n",
    "display(loan_card_client_df.head())"
   ]
  },
  {
   "cell_type": "code",
   "execution_count": 20,
   "metadata": {},
   "outputs": [
    {
     "data": {
      "image/png": "[encoded data removed]",
      "text/plain": [
       "<Figure size 415.875x360 with 1 Axes>"
      ]
     },
     "metadata": {
      "needs_background": "light"
     },
     "output_type": "display_data"
    }
   ],
   "source": [
    "sns.displot(data = loan_card_client_df,  x = 'age', hue='defaulted')\n",
    "graph.show()"
   ]
  },
  {
   "cell_type": "code",
   "execution_count": 21,
   "metadata": {},
   "outputs": [
    {
     "name": "stdout",
     "output_type": "stream",
     "text": [
      "card_type  defaulted\n",
      "classic    no           130\n",
      "           yes            3\n",
      "gold       no            15\n",
      "           yes            1\n",
      "junior     no            20\n",
      "           yes            1\n",
      "Name: defaulted, dtype: int64\n"
     ]
    },
    {
     "data": {
      "image/png": "[encoded data removed]",
      "text/plain": [
       "<Figure size 432x288 with 1 Axes>"
      ]
     },
     "metadata": {
      "needs_background": "light"
     },
     "output_type": "display_data"
    },
    {
     "name": "stdout",
     "output_type": "stream",
     "text": [
      "gender  defaulted\n",
      "female  no           307\n",
      "        yes           41\n",
      "male    no           299\n",
      "        yes           35\n",
      "Name: defaulted, dtype: int64\n"
     ]
    },
    {
     "data": {
      "image/png": "[encoded data removed]",
      "text/plain": [
       "<Figure size 432x288 with 1 Axes>"
      ]
     },
     "metadata": {
      "needs_background": "light"
     },
     "output_type": "display_data"
    }
   ],
   "source": [
    "for col in ['card_type', 'gender']:\n",
    "    print(loan_card_client_df.groupby(col)['defaulted'].value_counts())\n",
    "    \n",
    "    graph.title(col, fontsize=15)\n",
    "    sns.countplot(x = col, data = loan_card_client_df, hue='defaulted')\n",
    "    graph.show()"
   ]
  },
  {
   "cell_type": "markdown",
   "metadata": {},
   "source": [
    "There seems to be differences with predictors gender, birthdate/age, and card type. We'll use these too"
   ]
  },
  {
   "cell_type": "markdown",
   "metadata": {},
   "source": [
    "### Loan, district\n",
    "This dataframe will need lots of cleaning up"
   ]
  },
  {
   "cell_type": "code",
   "execution_count": 22,
   "metadata": {},
   "outputs": [
    {
     "data": {
      "text/html": [
       "<div>\n",
       "<style scoped>\n",
       "    .dataframe tbody tr th:only-of-type {\n",
       "        vertical-align: middle;\n",
       "    }\n",
       "\n",
       "    .dataframe tbody tr th {\n",
       "        vertical-align: top;\n",
       "    }\n",
       "\n",
       "    .dataframe thead th {\n",
       "        text-align: right;\n",
       "    }\n",
       "</style>\n",
       "<table border=\"1\" class=\"dataframe\">\n",
       "  <thead>\n",
       "    <tr style=\"text-align: right;\">\n",
       "      <th></th>\n",
       "      <th>district_id</th>\n",
       "      <th>account_id</th>\n",
       "      <th>loan_id</th>\n",
       "      <th>date</th>\n",
       "      <th>amount</th>\n",
       "      <th>duration</th>\n",
       "      <th>payments</th>\n",
       "      <th>status</th>\n",
       "      <th>date</th>\n",
       "      <th>frequency</th>\n",
       "      <th>...</th>\n",
       "      <th>A7</th>\n",
       "      <th>A8</th>\n",
       "      <th>A9</th>\n",
       "      <th>A10</th>\n",
       "      <th>A11</th>\n",
       "      <th>A12</th>\n",
       "      <th>A13</th>\n",
       "      <th>A14</th>\n",
       "      <th>A15</th>\n",
       "      <th>A16</th>\n",
       "    </tr>\n",
       "  </thead>\n",
       "  <tbody>\n",
       "    <tr>\n",
       "      <th>0</th>\n",
       "      <td>30</td>\n",
       "      <td>1787</td>\n",
       "      <td>5314</td>\n",
       "      <td>1993-07-05</td>\n",
       "      <td>96396</td>\n",
       "      <td>12</td>\n",
       "      <td>8033.00</td>\n",
       "      <td>B</td>\n",
       "      <td>1993-03-22</td>\n",
       "      <td>POPLATEK TYDNE</td>\n",
       "      <td>...</td>\n",
       "      <td>8</td>\n",
       "      <td>2</td>\n",
       "      <td>10</td>\n",
       "      <td>81.8</td>\n",
       "      <td>9650</td>\n",
       "      <td>0.99</td>\n",
       "      <td>0.99</td>\n",
       "      <td>100</td>\n",
       "      <td>2985</td>\n",
       "      <td>2804</td>\n",
       "    </tr>\n",
       "    <tr>\n",
       "      <th>1</th>\n",
       "      <td>46</td>\n",
       "      <td>1801</td>\n",
       "      <td>5316</td>\n",
       "      <td>1993-07-11</td>\n",
       "      <td>165960</td>\n",
       "      <td>36</td>\n",
       "      <td>4610.00</td>\n",
       "      <td>A</td>\n",
       "      <td>1993-02-13</td>\n",
       "      <td>POPLATEK MESICNE</td>\n",
       "      <td>...</td>\n",
       "      <td>7</td>\n",
       "      <td>3</td>\n",
       "      <td>10</td>\n",
       "      <td>73.5</td>\n",
       "      <td>8369</td>\n",
       "      <td>0.99</td>\n",
       "      <td>0.99</td>\n",
       "      <td>117</td>\n",
       "      <td>2854</td>\n",
       "      <td>2618</td>\n",
       "    </tr>\n",
       "    <tr>\n",
       "      <th>2</th>\n",
       "      <td>45</td>\n",
       "      <td>9188</td>\n",
       "      <td>6863</td>\n",
       "      <td>1993-07-28</td>\n",
       "      <td>127080</td>\n",
       "      <td>60</td>\n",
       "      <td>2118.00</td>\n",
       "      <td>A</td>\n",
       "      <td>1993-02-08</td>\n",
       "      <td>POPLATEK MESICNE</td>\n",
       "      <td>...</td>\n",
       "      <td>6</td>\n",
       "      <td>1</td>\n",
       "      <td>5</td>\n",
       "      <td>53.5</td>\n",
       "      <td>8390</td>\n",
       "      <td>0.99</td>\n",
       "      <td>0.99</td>\n",
       "      <td>132</td>\n",
       "      <td>2080</td>\n",
       "      <td>2122</td>\n",
       "    </tr>\n",
       "    <tr>\n",
       "      <th>3</th>\n",
       "      <td>12</td>\n",
       "      <td>1843</td>\n",
       "      <td>5325</td>\n",
       "      <td>1993-08-03</td>\n",
       "      <td>105804</td>\n",
       "      <td>36</td>\n",
       "      <td>2939.00</td>\n",
       "      <td>A</td>\n",
       "      <td>1993-01-30</td>\n",
       "      <td>POPLATEK MESICNE</td>\n",
       "      <td>...</td>\n",
       "      <td>6</td>\n",
       "      <td>1</td>\n",
       "      <td>6</td>\n",
       "      <td>58.0</td>\n",
       "      <td>8754</td>\n",
       "      <td>0.99</td>\n",
       "      <td>0.99</td>\n",
       "      <td>137</td>\n",
       "      <td>3804</td>\n",
       "      <td>3868</td>\n",
       "    </tr>\n",
       "    <tr>\n",
       "      <th>4</th>\n",
       "      <td>1</td>\n",
       "      <td>11013</td>\n",
       "      <td>7240</td>\n",
       "      <td>1993-09-06</td>\n",
       "      <td>274740</td>\n",
       "      <td>60</td>\n",
       "      <td>4579.00</td>\n",
       "      <td>A</td>\n",
       "      <td>1993-02-14</td>\n",
       "      <td>POPLATEK TYDNE</td>\n",
       "      <td>...</td>\n",
       "      <td>0</td>\n",
       "      <td>1</td>\n",
       "      <td>1</td>\n",
       "      <td>100.0</td>\n",
       "      <td>12541</td>\n",
       "      <td>0.29</td>\n",
       "      <td>0.43</td>\n",
       "      <td>167</td>\n",
       "      <td>85677</td>\n",
       "      <td>99107</td>\n",
       "    </tr>\n",
       "  </tbody>\n",
       "</table>\n",
       "<p>5 rows × 25 columns</p>\n",
       "</div>"
      ],
      "text/plain": [
       "   district_id  account_id  loan_id        date  amount  duration payments  \\\n",
       "0           30        1787     5314  1993-07-05   96396        12  8033.00   \n",
       "1           46        1801     5316  1993-07-11  165960        36  4610.00   \n",
       "2           45        9188     6863  1993-07-28  127080        60  2118.00   \n",
       "3           12        1843     5325  1993-08-03  105804        36  2939.00   \n",
       "4            1       11013     7240  1993-09-06  274740        60  4579.00   \n",
       "\n",
       "  status        date         frequency  ... A7 A8  A9    A10    A11   A12  \\\n",
       "0      B  1993-03-22    POPLATEK TYDNE  ...  8  2  10   81.8   9650  0.99   \n",
       "1      A  1993-02-13  POPLATEK MESICNE  ...  7  3  10   73.5   8369  0.99   \n",
       "2      A  1993-02-08  POPLATEK MESICNE  ...  6  1   5   53.5   8390  0.99   \n",
       "3      A  1993-01-30  POPLATEK MESICNE  ...  6  1   6   58.0   8754  0.99   \n",
       "4      A  1993-02-14    POPLATEK TYDNE  ...  0  1   1  100.0  12541  0.29   \n",
       "\n",
       "    A13  A14    A15    A16  \n",
       "0  0.99  100   2985   2804  \n",
       "1  0.99  117   2854   2618  \n",
       "2  0.99  132   2080   2122  \n",
       "3  0.99  137   3804   3868  \n",
       "4  0.43  167  85677  99107  \n",
       "\n",
       "[5 rows x 25 columns]"
      ]
     },
     "metadata": {},
     "output_type": "display_data"
    }
   ],
   "source": [
    "query = \"\"\"\n",
    "    select *\n",
    "    from loan_t join account_t using(account_id)\n",
    "    join demographic_t using(district_id);\n",
    "    \"\"\"\n",
    "district_df = db.to_df(query)\n",
    "\n",
    "display(district_df.head())"
   ]
  },
  {
   "cell_type": "code",
   "execution_count": 23,
   "metadata": {},
   "outputs": [
    {
     "data": {
      "text/html": [
       "<div>\n",
       "<style scoped>\n",
       "    .dataframe tbody tr th:only-of-type {\n",
       "        vertical-align: middle;\n",
       "    }\n",
       "\n",
       "    .dataframe tbody tr th {\n",
       "        vertical-align: top;\n",
       "    }\n",
       "\n",
       "    .dataframe thead th {\n",
       "        text-align: right;\n",
       "    }\n",
       "</style>\n",
       "<table border=\"1\" class=\"dataframe\">\n",
       "  <thead>\n",
       "    <tr style=\"text-align: right;\">\n",
       "      <th></th>\n",
       "      <th>status</th>\n",
       "      <th>region</th>\n",
       "      <th>num_inhabitants</th>\n",
       "      <th>ratio_urban_inhabitants</th>\n",
       "      <th>avg_salary</th>\n",
       "      <th>unemployment_rate</th>\n",
       "      <th>entrepreneur_rate</th>\n",
       "      <th>crime_rate</th>\n",
       "      <th>defaulted</th>\n",
       "    </tr>\n",
       "  </thead>\n",
       "  <tbody>\n",
       "    <tr>\n",
       "      <th>0</th>\n",
       "      <td>B</td>\n",
       "      <td>west Bohemia</td>\n",
       "      <td>94812</td>\n",
       "      <td>81.8</td>\n",
       "      <td>9650</td>\n",
       "      <td>0.99</td>\n",
       "      <td>100</td>\n",
       "      <td>0.030529</td>\n",
       "      <td>yes</td>\n",
       "    </tr>\n",
       "    <tr>\n",
       "      <th>1</th>\n",
       "      <td>A</td>\n",
       "      <td>east Bohemia</td>\n",
       "      <td>112709</td>\n",
       "      <td>73.5</td>\n",
       "      <td>8369</td>\n",
       "      <td>0.99</td>\n",
       "      <td>117</td>\n",
       "      <td>0.024275</td>\n",
       "      <td>no</td>\n",
       "    </tr>\n",
       "    <tr>\n",
       "      <th>2</th>\n",
       "      <td>A</td>\n",
       "      <td>east Bohemia</td>\n",
       "      <td>77917</td>\n",
       "      <td>53.5</td>\n",
       "      <td>8390</td>\n",
       "      <td>0.99</td>\n",
       "      <td>132</td>\n",
       "      <td>0.026965</td>\n",
       "      <td>no</td>\n",
       "    </tr>\n",
       "    <tr>\n",
       "      <th>3</th>\n",
       "      <td>A</td>\n",
       "      <td>central Bohemia</td>\n",
       "      <td>107870</td>\n",
       "      <td>58.0</td>\n",
       "      <td>8754</td>\n",
       "      <td>0.99</td>\n",
       "      <td>137</td>\n",
       "      <td>0.035561</td>\n",
       "      <td>no</td>\n",
       "    </tr>\n",
       "    <tr>\n",
       "      <th>4</th>\n",
       "      <td>A</td>\n",
       "      <td>Prague</td>\n",
       "      <td>1204953</td>\n",
       "      <td>100.0</td>\n",
       "      <td>12541</td>\n",
       "      <td>0.36</td>\n",
       "      <td>167</td>\n",
       "      <td>0.076677</td>\n",
       "      <td>no</td>\n",
       "    </tr>\n",
       "    <tr>\n",
       "      <th>...</th>\n",
       "      <td>...</td>\n",
       "      <td>...</td>\n",
       "      <td>...</td>\n",
       "      <td>...</td>\n",
       "      <td>...</td>\n",
       "      <td>...</td>\n",
       "      <td>...</td>\n",
       "      <td>...</td>\n",
       "      <td>...</td>\n",
       "    </tr>\n",
       "    <tr>\n",
       "      <th>677</th>\n",
       "      <td>C</td>\n",
       "      <td>south Bohemia</td>\n",
       "      <td>103347</td>\n",
       "      <td>67.0</td>\n",
       "      <td>9104</td>\n",
       "      <td>0.99</td>\n",
       "      <td>123</td>\n",
       "      <td>0.022512</td>\n",
       "      <td>no</td>\n",
       "    </tr>\n",
       "    <tr>\n",
       "      <th>678</th>\n",
       "      <td>C</td>\n",
       "      <td>south Moravia</td>\n",
       "      <td>124605</td>\n",
       "      <td>46.0</td>\n",
       "      <td>8772</td>\n",
       "      <td>0.99</td>\n",
       "      <td>126</td>\n",
       "      <td>0.024124</td>\n",
       "      <td>no</td>\n",
       "    </tr>\n",
       "    <tr>\n",
       "      <th>679</th>\n",
       "      <td>C</td>\n",
       "      <td>south Bohemia</td>\n",
       "      <td>51428</td>\n",
       "      <td>52.7</td>\n",
       "      <td>8402</td>\n",
       "      <td>0.99</td>\n",
       "      <td>120</td>\n",
       "      <td>0.020397</td>\n",
       "      <td>no</td>\n",
       "    </tr>\n",
       "    <tr>\n",
       "      <th>680</th>\n",
       "      <td>C</td>\n",
       "      <td>north Moravia</td>\n",
       "      <td>161227</td>\n",
       "      <td>69.7</td>\n",
       "      <td>8678</td>\n",
       "      <td>0.99</td>\n",
       "      <td>102</td>\n",
       "      <td>0.029694</td>\n",
       "      <td>no</td>\n",
       "    </tr>\n",
       "    <tr>\n",
       "      <th>681</th>\n",
       "      <td>C</td>\n",
       "      <td>north Bohemia</td>\n",
       "      <td>85852</td>\n",
       "      <td>59.8</td>\n",
       "      <td>8965</td>\n",
       "      <td>0.99</td>\n",
       "      <td>104</td>\n",
       "      <td>0.031886</td>\n",
       "      <td>no</td>\n",
       "    </tr>\n",
       "  </tbody>\n",
       "</table>\n",
       "<p>682 rows × 9 columns</p>\n",
       "</div>"
      ],
      "text/plain": [
       "    status           region  num_inhabitants ratio_urban_inhabitants  \\\n",
       "0        B     west Bohemia            94812                    81.8   \n",
       "1        A     east Bohemia           112709                    73.5   \n",
       "2        A     east Bohemia            77917                    53.5   \n",
       "3        A  central Bohemia           107870                    58.0   \n",
       "4        A           Prague          1204953                   100.0   \n",
       "..     ...              ...              ...                     ...   \n",
       "677      C    south Bohemia           103347                    67.0   \n",
       "678      C    south Moravia           124605                    46.0   \n",
       "679      C    south Bohemia            51428                    52.7   \n",
       "680      C    north Moravia           161227                    69.7   \n",
       "681      C    north Bohemia            85852                    59.8   \n",
       "\n",
       "     avg_salary  unemployment_rate  entrepreneur_rate  crime_rate defaulted  \n",
       "0          9650               0.99                100    0.030529       yes  \n",
       "1          8369               0.99                117    0.024275        no  \n",
       "2          8390               0.99                132    0.026965        no  \n",
       "3          8754               0.99                137    0.035561        no  \n",
       "4         12541               0.36                167    0.076677        no  \n",
       "..          ...                ...                ...         ...       ...  \n",
       "677        9104               0.99                123    0.022512        no  \n",
       "678        8772               0.99                126    0.024124        no  \n",
       "679        8402               0.99                120    0.020397        no  \n",
       "680        8678               0.99                102    0.029694        no  \n",
       "681        8965               0.99                104    0.031886        no  \n",
       "\n",
       "[682 rows x 9 columns]"
      ]
     },
     "metadata": {},
     "output_type": "display_data"
    }
   ],
   "source": [
    "# Make average Unemployment\n",
    "district_df['unemployment_rate'] = district_df[['A12', 'A13']].mean(axis=1)\n",
    "\n",
    "# Make average crime Rate\n",
    "district_df['crime_rate'] = district_df[['A15', 'A16']].mean(axis=1) / district_df['A4']\n",
    "\n",
    "\n",
    "district_df = district_df[['status', 'A3', 'A4', 'A10', 'A11', 'unemployment_rate', 'A14', 'crime_rate']]\n",
    "district_df.rename(columns = {'A3': 'region', 'A4': 'num_inhabitants', 'A10': 'ratio_urban_inhabitants', \n",
    "                              'A11': 'avg_salary', 'A14': 'entrepreneur_rate'}, inplace=True)\n",
    "\n",
    "district_df['defaulted'] = np.where(district_df['status'].isin(['A', 'C']), 'no', 'yes')\n",
    "display(district_df)"
   ]
  },
  {
   "cell_type": "code",
   "execution_count": 24,
   "metadata": {},
   "outputs": [
    {
     "name": "stdout",
     "output_type": "stream",
     "text": [
      "region           defaulted\n",
      "Prague           no            77\n",
      "                 yes            7\n",
      "central Bohemia  no            80\n",
      "                 yes           10\n",
      "east Bohemia     no            75\n",
      "                 yes            9\n",
      "north Bohemia    no            60\n",
      "                 yes            1\n",
      "north Moravia    no            99\n",
      "                 yes           18\n",
      "south Bohemia    no            51\n",
      "                 yes            9\n",
      "south Moravia    no           116\n",
      "                 yes           13\n",
      "west Bohemia     no            48\n",
      "                 yes            9\n",
      "Name: defaulted, dtype: int64\n"
     ]
    },
    {
     "data": {
      "image/png": "[encoded data removed]",
      "text/plain": [
       "<Figure size 1152x360 with 1 Axes>"
      ]
     },
     "metadata": {
      "needs_background": "light"
     },
     "output_type": "display_data"
    }
   ],
   "source": [
    "print(district_df.groupby('region')['defaulted'].value_counts())\n",
    "\n",
    "graph.figure(figsize=(16, 5))\n",
    "sns.countplot(x = 'region', data = district_df, hue='defaulted')\n",
    "graph.show()"
   ]
  },
  {
   "cell_type": "code",
   "execution_count": 25,
   "metadata": {},
   "outputs": [
    {
     "data": {
      "text/plain": [
       "Index(['status', 'region', 'num_inhabitants', 'ratio_urban_inhabitants',\n",
       "       'avg_salary', 'unemployment_rate', 'entrepreneur_rate', 'crime_rate',\n",
       "       'defaulted'],\n",
       "      dtype='object')"
      ]
     },
     "execution_count": 25,
     "metadata": {},
     "output_type": "execute_result"
    }
   ],
   "source": [
    "district_df.columns"
   ]
  },
  {
   "cell_type": "code",
   "execution_count": 26,
   "metadata": {
    "scrolled": false
   },
   "outputs": [
    {
     "name": "stdout",
     "output_type": "stream",
     "text": [
      "num_inhabitants\n"
     ]
    },
    {
     "data": {
      "image/png": "[encoded data removed]",
      "text/plain": [
       "<Figure size 415.875x360 with 1 Axes>"
      ]
     },
     "metadata": {
      "needs_background": "light"
     },
     "output_type": "display_data"
    },
    {
     "name": "stdout",
     "output_type": "stream",
     "text": [
      "ratio_urban_inhabitants\n"
     ]
    },
    {
     "data": {
      "image/png": "[encoded data removed]",
      "text/plain": [
       "<Figure size 415.875x360 with 1 Axes>"
      ]
     },
     "metadata": {
      "needs_background": "light"
     },
     "output_type": "display_data"
    },
    {
     "name": "stdout",
     "output_type": "stream",
     "text": [
      "avg_salary\n"
     ]
    },
    {
     "data": {
      "image/png": "[encoded data removed]",
      "text/plain": [
       "<Figure size 415.875x360 with 1 Axes>"
      ]
     },
     "metadata": {
      "needs_background": "light"
     },
     "output_type": "display_data"
    },
    {
     "name": "stdout",
     "output_type": "stream",
     "text": [
      "unemployment_rate\n"
     ]
    },
    {
     "data": {
      "image/png": "[encoded data removed]",
      "text/plain": [
       "<Figure size 415.875x360 with 1 Axes>"
      ]
     },
     "metadata": {
      "needs_background": "light"
     },
     "output_type": "display_data"
    },
    {
     "name": "stdout",
     "output_type": "stream",
     "text": [
      "entrepreneur_rate\n"
     ]
    },
    {
     "data": {
      "image/png": "[encoded data removed]",
      "text/plain": [
       "<Figure size 415.875x360 with 1 Axes>"
      ]
     },
     "metadata": {
      "needs_background": "light"
     },
     "output_type": "display_data"
    },
    {
     "name": "stdout",
     "output_type": "stream",
     "text": [
      "crime_rate\n"
     ]
    },
    {
     "data": {
      "image/png": "[encoded data removed]",
      "text/plain": [
       "<Figure size 415.875x360 with 1 Axes>"
      ]
     },
     "metadata": {
      "needs_background": "light"
     },
     "output_type": "display_data"
    }
   ],
   "source": [
    "for col in ['num_inhabitants', 'ratio_urban_inhabitants', 'avg_salary', 'unemployment_rate', 'entrepreneur_rate', 'crime_rate']:\n",
    "    print(col)\n",
    "    sns.displot(data = district_df, x = col, hue='defaulted')\n",
    "    graph.show()"
   ]
  },
  {
   "cell_type": "markdown",
   "metadata": {},
   "source": [
    "This looks good! The district components seem to separate the defaulted loans enough"
   ]
  },
  {
   "cell_type": "markdown",
   "metadata": {},
   "source": [
    "# Summary"
   ]
  },
  {
   "cell_type": "markdown",
   "metadata": {},
   "source": [
    "- Target variable is 'status' from loan table\n",
    "- Predictors are:\n",
    "    - 'amount', 'duration', 'payments', 'frequency', 'time_elapsed' from loan and account table\n",
    "    - 'avg_order_amount from order table\n",
    "    - 'avg_bal_amount', 'avg_trans_amount', and 'num_trans' from transactions table\n",
    "    - 'age', 'gender' from client table\n",
    "    - 'card_type' from card table\n",
    "    - 'region', 'num_inhabitants', 'ratio_urban_inhabitants', 'avg_salary', 'unemployment_rate', 'entrepreneur_rate', 'crime_rate' from district table"
   ]
  },
  {
   "cell_type": "markdown",
   "metadata": {},
   "source": [
    "We'll do the modeling in the next notebook (WeCloudData_Loan_Default_Modelling)"
   ]
  }
 ],
 "metadata": {
  "kernelspec": {
   "display_name": "Python 3",
   "language": "python",
   "name": "python3"
  },
  "language_info": {
   "codemirror_mode": {
    "name": "ipython",
    "version": 3
   },
   "file_extension": ".py",
   "mimetype": "text/x-python",
   "name": "python",
   "nbconvert_exporter": "python",
   "pygments_lexer": "ipython3",
   "version": "3.7.6"
  }
 },
 "nbformat": 4,
 "nbformat_minor": 4
}
